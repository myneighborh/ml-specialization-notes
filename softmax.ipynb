{
 "cells": [
  {
   "cell_type": "code",
   "execution_count": 32,
   "id": "42d98e73",
   "metadata": {},
   "outputs": [],
   "source": [
    "import numpy as np\n",
    "import torch\n",
    "import torch.nn as nn\n",
    "import torch.optim as optim\n",
    "import torch.nn.functional as F"
   ]
  },
  {
   "cell_type": "code",
   "execution_count": 28,
   "id": "bcd53dec",
   "metadata": {},
   "outputs": [],
   "source": [
    "NUM_SAMPLES = 2000\n",
    "INPUT_DIM = 10\n",
    "NUM_CLASSES = 4\n",
    "LR = 0.001\n",
    "EPOCH = 10"
   ]
  },
  {
   "cell_type": "code",
   "execution_count": 22,
   "id": "119efcb9",
   "metadata": {},
   "outputs": [],
   "source": [
    "X_train = torch.randn(NUM_SAMPLES, INPUT_DIM)\n",
    "y_train = torch.randint(0, num_classes, (NUM_SAMPLES,))"
   ]
  },
  {
   "cell_type": "markdown",
   "id": "ba188876",
   "metadata": {},
   "source": [
    "In TensorFlow, it's possible to use a softmax activation in the output layer, but using logits is generally preferred for numerical stability and optimization. In PyTorch, however, since the loss function already includes softmax internally, applying softmax in the output layer should be avoided."
   ]
  },
  {
   "cell_type": "code",
   "execution_count": 17,
   "id": "1f939819",
   "metadata": {},
   "outputs": [],
   "source": [
    "class PrefferedModel(nn.Module):\n",
    "    def __init__(self, input_dim):\n",
    "        super().__init__()\n",
    "        self.model = nn.Sequential(\n",
    "            nn.Linear(input_dim, 25),\n",
    "            nn.ReLU(),\n",
    "            nn.Linear(25, 15),\n",
    "            nn.ReLU(),\n",
    "            nn.Linear(15, 4)\n",
    "        )\n",
    "\n",
    "    def forward(self, x):\n",
    "        return self.model(x)"
   ]
  },
  {
   "cell_type": "code",
   "execution_count": 23,
   "id": "1851df4d",
   "metadata": {},
   "outputs": [],
   "source": [
    "input_dim = X_train.shape[1]"
   ]
  },
  {
   "cell_type": "code",
   "execution_count": 24,
   "id": "06c77340",
   "metadata": {},
   "outputs": [],
   "source": [
    "model = PrefferedModel(input_dim=input_dim)"
   ]
  },
  {
   "cell_type": "code",
   "execution_count": 25,
   "id": "78ff23d9",
   "metadata": {},
   "outputs": [],
   "source": [
    "criterion = nn.CrossEntropyLoss()"
   ]
  },
  {
   "cell_type": "code",
   "execution_count": 27,
   "id": "4b4129a2",
   "metadata": {},
   "outputs": [],
   "source": [
    "optimizer = optim.Adam(model.parameters(), lr=LR)"
   ]
  },
  {
   "cell_type": "code",
   "execution_count": 30,
   "id": "85e12ccc",
   "metadata": {},
   "outputs": [
    {
     "name": "stdout",
     "output_type": "stream",
     "text": [
      "Epoch 1, Loss: 1.3936\n",
      "Epoch 2, Loss: 1.3929\n",
      "Epoch 3, Loss: 1.3922\n",
      "Epoch 4, Loss: 1.3916\n",
      "Epoch 5, Loss: 1.3910\n",
      "Epoch 6, Loss: 1.3905\n",
      "Epoch 7, Loss: 1.3900\n",
      "Epoch 8, Loss: 1.3895\n",
      "Epoch 9, Loss: 1.3890\n",
      "Epoch 10, Loss: 1.3886\n"
     ]
    }
   ],
   "source": [
    "for epoch in range(EPOCH):\n",
    "    model.train()\n",
    "    optimizer.zero_grad()\n",
    "    outputs = model(X_train)\n",
    "    loss = criterion(outputs, y_train)\n",
    "    loss.backward()\n",
    "    optimizer.step()\n",
    "    print(f\"Epoch {epoch + 1}, Loss: {loss.item():.4f}\")"
   ]
  },
  {
   "cell_type": "code",
   "execution_count": 44,
   "id": "ded6c5fb",
   "metadata": {},
   "outputs": [
    {
     "name": "stdout",
     "output_type": "stream",
     "text": [
      "tensor([[0.2440, 0.2494, 0.2683, 0.2382],\n",
      "        [0.2407, 0.2456, 0.2836, 0.2300],\n",
      "        [0.2258, 0.2563, 0.2850, 0.2329],\n",
      "        [0.2266, 0.2445, 0.2852, 0.2437],\n",
      "        [0.2297, 0.2554, 0.2852, 0.2297]])\n",
      "tensor([2, 2, 2, 2, 2])\n"
     ]
    }
   ],
   "source": [
    "model.eval()\n",
    "\n",
    "with torch.no_grad():\n",
    "    logits = model(X_train)\n",
    "    probs = F.softmax(logits, dim=1)\n",
    "    pred_indices = torch.argmax(probs, dim=1)\n",
    "\n",
    "print(probs[:5])\n",
    "print(pred_indices[:5])"
   ]
  }
 ],
 "metadata": {
  "kernelspec": {
   "display_name": "torch_venv",
   "language": "python",
   "name": "python3"
  },
  "language_info": {
   "codemirror_mode": {
    "name": "ipython",
    "version": 3
   },
   "file_extension": ".py",
   "mimetype": "text/x-python",
   "name": "python",
   "nbconvert_exporter": "python",
   "pygments_lexer": "ipython3",
   "version": "3.12.8"
  }
 },
 "nbformat": 4,
 "nbformat_minor": 5
}
